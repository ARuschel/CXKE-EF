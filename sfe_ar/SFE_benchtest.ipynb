{
 "cells": [
  {
   "cell_type": "code",
   "execution_count": 1,
   "metadata": {
    "tags": []
   },
   "outputs": [
    {
     "output_type": "stream",
     "name": "stdout",
     "text": [
      "/home/andrey/proj/OpenKE\n"
     ]
    }
   ],
   "source": [
    "import os\n",
    "\n",
    "try:\n",
    "\tos.chdir(os.path.join('/home/andrey/proj/OpenKE/'))\n",
    "\tprint(os.getcwd())\n",
    "except:\n",
    "\tpass\n",
    "\n",
    "import sys\n",
    "sys.path.append('../')\n",
    "sys.path.insert(0, os.path.expanduser('~') + '/proj/OpenKE/')\n",
    "\n",
    "from tools.dataset_tools import Dataset\n",
    "\n",
    "# from sfe_ar.tools.nim_functions import nim_subgraph\n",
    "\n",
    "import pandas as pd\n",
    "import numpy as np\n",
    "import os, time\n",
    "from tqdm import tqdm\n",
    "from sfe_ar.tools.tools import SFE\n",
    "from sfe_ar.tools.helpers import generate_timestamp\n",
    "from collections import Counter, defaultdict\n",
    "\n",
    "pd.set_option('display.max_rows', 500)\n",
    "\n",
    "get_ipython().magic(u'load_ext autoreload')\n",
    "get_ipython().magic(u'autoreload 2')"
   ]
  },
  {
   "cell_type": "code",
   "execution_count": 19,
   "metadata": {
    "tags": []
   },
   "outputs": [],
   "source": [
    "dataset = 'FB15K237' #[FB13, FB15k, FB15k-237, NELL186, WN11, WN18, WN18RR]\n",
    "p_folder = os.path.expanduser('~') + f'/proj/XKE_results/{dataset}/'\n",
    "use_split = 'g_2negrate_bern'\n",
    "use_sm_model = 'fb15k237_Google_news_d300.model'\n",
    "use_timestamp = '2009262117'"
   ]
  },
  {
   "cell_type": "code",
   "execution_count": 20,
   "metadata": {
    "tags": []
   },
   "outputs": [
    {
     "output_type": "stream",
     "name": "stdout",
     "text": [
      "\n",
      "Initializing SFE module!\n",
      "\n",
      "Using provided sfe_time_stamp: 2009262117.\n",
      "\n",
      "Loaded FB15K237 Dataset with 14541 entities and 474 relations.\n",
      "\n",
      "Loading FB15K237 true facts...  Done!\n",
      "\n",
      "Train set has 272115 triples\n",
      "Test set has 20466 triples\n",
      "Valid set has 17535 triples\n",
      "\n",
      "Building FB15K237 graph... Done!\n",
      "\n",
      "Graph built with 579300 edges.\n",
      "Loaded Keyed-Vectors Similarity Model.\n",
      "Computed rel and ent similarity matrices.\n"
     ]
    }
   ],
   "source": [
    "s = SFE(bench_dataset = dataset, \n",
    "        project_folder = p_folder,\n",
    "\t\tsplit = use_split,\n",
    "\t\ttime_stamp = use_timestamp,\n",
    "        )\n",
    "\n",
    "s.load_kv_model(use_sm_model)"
   ]
  },
  {
   "cell_type": "code",
   "execution_count": 21,
   "metadata": {},
   "outputs": [],
   "source": [
    "results = pd.read_csv(p_folder + f'sfe_features/{use_timestamp}/sfe_model_info.tsv', sep='\\t', index_col=0).T\n",
    "results['sfe:features_triples_ratio\t'] = results['sfe:features_triples_ratio'].astype(float)"
   ]
  },
  {
   "cell_type": "code",
   "execution_count": 22,
   "metadata": {},
   "outputs": [
    {
     "output_type": "execute_result",
     "data": {
      "text/plain": [
       "array(['no', '120', '180'], dtype=object)"
      ]
     },
     "metadata": {},
     "execution_count": 22
    }
   ],
   "source": [
    "results['sfe:top_rels_reduced_graph'].unique()"
   ]
  },
  {
   "cell_type": "code",
   "execution_count": 27,
   "metadata": {},
   "outputs": [
    {
     "output_type": "execute_result",
     "data": {
      "text/plain": [
       "Index(['r0', 'r4', 'r5', 'r17', 'r26', 'r43', 'r98', 'r115', 'r124', 'r137',\n",
       "       'r154', 'r172', 'r204'],\n",
       "      dtype='object')"
      ]
     },
     "metadata": {},
     "execution_count": 27
    }
   ],
   "source": [
    "results[results['sfe:top_rels_reduced_graph'] == 'no'].index"
   ]
  },
  {
   "cell_type": "code",
   "execution_count": null,
   "metadata": {},
   "outputs": [],
   "source": [
    "results[results['sfe:features_triples_ratio'] < 2].index"
   ]
  },
  {
   "cell_type": "code",
   "execution_count": null,
   "metadata": {
    "tags": []
   },
   "outputs": [],
   "source": [
    "pd.DataFrame(s.get_similar_rels('r0', 40))"
   ]
  },
  {
   "cell_type": "markdown",
   "metadata": {},
   "source": [
    "## Benchtest"
   ]
  },
  {
   "cell_type": "code",
   "execution_count": null,
   "metadata": {},
   "outputs": [],
   "source": [
    "triple1 = 'e4946_e1713_1_r0'\n",
    "triple2 = 'e0_e1_1_r0'\n",
    "# len(s.fast_merge_subgraphs(triple, 1))"
   ]
  },
  {
   "cell_type": "code",
   "execution_count": null,
   "metadata": {},
   "outputs": [],
   "source": [
    "# s.group_features(s.sim_merge_subgraphs(triple, 1), triple)"
   ]
  },
  {
   "cell_type": "code",
   "execution_count": null,
   "metadata": {},
   "outputs": [],
   "source": [
    "file_to_load = project_folder + 'sfe_features/debug3/people-person-religion/train_feature_package'"
   ]
  },
  {
   "cell_type": "code",
   "execution_count": null,
   "metadata": {},
   "outputs": [],
   "source": [
    "features = s.load_from_pkl(file_to_load)"
   ]
  },
  {
   "cell_type": "code",
   "execution_count": null,
   "metadata": {},
   "outputs": [],
   "source": [
    "features.keys()"
   ]
  },
  {
   "cell_type": "code",
   "execution_count": null,
   "metadata": {},
   "outputs": [],
   "source": [
    "v = features['vectorizer']\n",
    "triples = features['row_names']\n",
    "feat_set = features['feature_matrix']"
   ]
  },
  {
   "cell_type": "code",
   "execution_count": null,
   "metadata": {},
   "outputs": [],
   "source": [
    "original_list = v.inverse_transform(feat_set)"
   ]
  },
  {
   "cell_type": "code",
   "execution_count": null,
   "metadata": {},
   "outputs": [],
   "source": [
    "len(original_list[0].keys())"
   ]
  },
  {
   "cell_type": "code",
   "execution_count": null,
   "metadata": {},
   "outputs": [],
   "source": [
    "test_dict = dict()\n",
    "test_dict[triple1] = s.fast_merge_subgraphs(triple1, 1)\n",
    "test_dict[triple2] = s.fast_merge_subgraphs(triple2, 1)"
   ]
  },
  {
   "cell_type": "code",
   "execution_count": null,
   "metadata": {},
   "outputs": [],
   "source": [
    "df1 = pd.DataFrame.from_dict(test_dict, orient='columns').reset_index()\n",
    "df1"
   ]
  },
  {
   "cell_type": "code",
   "execution_count": null,
   "metadata": {},
   "outputs": [],
   "source": [
    "final_df = pd.melt(df1, id_vars='index', var_name='triple_id').rename(columns={'index':'path'}).dropna()"
   ]
  },
  {
   "cell_type": "code",
   "execution_count": null,
   "metadata": {},
   "outputs": [],
   "source": [
    "len(set(test_dict[triple1].keys()) | set(test_dict[triple2].keys()))"
   ]
  },
  {
   "cell_type": "code",
   "execution_count": null,
   "metadata": {},
   "outputs": [],
   "source": [
    "final_df.path.nunique()"
   ]
  },
  {
   "cell_type": "code",
   "execution_count": null,
   "metadata": {},
   "outputs": [],
   "source": [
    "final_df"
   ]
  },
  {
   "cell_type": "code",
   "execution_count": null,
   "metadata": {},
   "outputs": [],
   "source": [
    "final_df.path.unique()"
   ]
  },
  {
   "cell_type": "code",
   "execution_count": null,
   "metadata": {},
   "outputs": [],
   "source": [
    "file_to_load = project_folder + 'sfe_features/debug4/{}/Andrey_feature_package'.format(s.rel_dict['r0'])"
   ]
  },
  {
   "cell_type": "code",
   "execution_count": null,
   "metadata": {},
   "outputs": [],
   "source": [
    "file_to_load"
   ]
  },
  {
   "cell_type": "code",
   "execution_count": null,
   "metadata": {},
   "outputs": [],
   "source": [
    "return_dict = s.load_from_pkl(file_to_load)"
   ]
  },
  {
   "cell_type": "code",
   "execution_count": null,
   "metadata": {},
   "outputs": [],
   "source": [
    "pd.DataFrame.from_dict(return_dict)"
   ]
  },
  {
   "cell_type": "code",
   "execution_count": null,
   "metadata": {},
   "outputs": [],
   "source": [
    "s.output_dir"
   ]
  },
  {
   "cell_type": "code",
   "execution_count": null,
   "metadata": {},
   "outputs": [],
   "source": [
    "fl_to_l = s.output_dir + 'sfe_model_info.tsv'\n",
    "df_l = pd.read_csv(fl_to_l, sep='\\t', index_col=0)\n",
    "df_l"
   ]
  },
  {
   "cell_type": "code",
   "execution_count": null,
   "metadata": {},
   "outputs": [],
   "source": [
    "model_info = dict(df_l)"
   ]
  },
  {
   "cell_type": "code",
   "execution_count": null,
   "metadata": {},
   "outputs": [],
   "source": [
    "model_info"
   ]
  },
  {
   "cell_type": "code",
   "execution_count": null,
   "metadata": {},
   "outputs": [],
   "source": [
    "pd.DataFrame.from_dict(model_info, orient='columns')"
   ]
  },
  {
   "cell_type": "code",
   "execution_count": null,
   "metadata": {},
   "outputs": [],
   "source": [
    "pd.DataFrame(s.model_info)"
   ]
  },
  {
   "cell_type": "code",
   "execution_count": null,
   "metadata": {},
   "outputs": [],
   "source": [
    "df_l.columns"
   ]
  },
  {
   "cell_type": "code",
   "execution_count": null,
   "metadata": {},
   "outputs": [],
   "source": [
    "'r10' in df_l.columns"
   ]
  },
  {
   "cell_type": "code",
   "execution_count": null,
   "metadata": {},
   "outputs": [],
   "source": [
    "s.train_set.head()"
   ]
  },
  {
   "cell_type": "code",
   "execution_count": null,
   "metadata": {},
   "outputs": [],
   "source": [
    "df = s.train_set"
   ]
  },
  {
   "cell_type": "code",
   "execution_count": null,
   "metadata": {},
   "outputs": [],
   "source": [
    "df.shape"
   ]
  },
  {
   "cell_type": "code",
   "execution_count": null,
   "metadata": {},
   "outputs": [],
   "source": [
    "df[df['rel'] == 'r81']"
   ]
  },
  {
   "cell_type": "code",
   "execution_count": null,
   "metadata": {},
   "outputs": [],
   "source": [
    "df.e1.values"
   ]
  },
  {
   "cell_type": "code",
   "execution_count": null,
   "metadata": {},
   "outputs": [],
   "source": []
  }
 ],
 "metadata": {
  "language_info": {
   "codemirror_mode": {
    "name": "ipython",
    "version": 3
   },
   "file_extension": ".py",
   "mimetype": "text/x-python",
   "name": "python",
   "nbconvert_exporter": "python",
   "pygments_lexer": "ipython3",
   "version": "3.6.10-final"
  },
  "orig_nbformat": 2,
  "kernelspec": {
   "name": "python3",
   "display_name": "Python 3"
  }
 },
 "nbformat": 4,
 "nbformat_minor": 2
}